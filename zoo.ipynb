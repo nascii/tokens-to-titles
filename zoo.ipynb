{
 "cells": [
  {
   "cell_type": "code",
   "execution_count": 1,
   "metadata": {},
   "outputs": [],
   "source": [
    "%matplotlib inline\n",
    "\n",
    "import numpy as np\n",
    "import pandas as pd\n",
    "from langdetect import detect\n",
    "import matplotlib.pyplot as plt\n",
    "\n",
    "np.random.seed(42)"
   ]
  },
  {
   "cell_type": "code",
   "execution_count": 2,
   "metadata": {},
   "outputs": [],
   "source": [
    "titles = pd.read_table('data/title.basics.tsv', usecols=['tconst', 'primaryTitle'])\n",
    "ratings = pd.read_table('data/title.ratings.tsv')"
   ]
  },
  {
   "cell_type": "code",
   "execution_count": 3,
   "metadata": {},
   "outputs": [
    {
     "name": "stdout",
     "output_type": "stream",
     "text": [
      "(0, 3)\n",
      "(0, 4)\n"
     ]
    }
   ],
   "source": [
    "# Let's convert films ids into strings\n",
    "titles['id'] = titles.tconst.apply(lambda s: int(s[2:]))\n",
    "ratings['id'] = ratings.tconst.apply(lambda s: int(s[2:]))\n",
    "print(titles[titles['id'].duplicated()].shape) # Checking that there are no duplicates\n",
    "print(ratings[ratings['id'].duplicated()].shape) # Checking that there are no duplicates"
   ]
  },
  {
   "cell_type": "code",
   "execution_count": 4,
   "metadata": {},
   "outputs": [],
   "source": [
    "titles.set_index('id', inplace=True)\n",
    "ratings.set_index('id', inplace=True)"
   ]
  },
  {
   "cell_type": "code",
   "execution_count": 5,
   "metadata": {},
   "outputs": [],
   "source": [
    "titles.drop(['tconst'], axis=1, inplace=True)\n",
    "ratings.drop(['tconst'], axis=1, inplace=True)"
   ]
  },
  {
   "cell_type": "code",
   "execution_count": 28,
   "metadata": {},
   "outputs": [
    {
     "name": "stdout",
     "output_type": "stream",
     "text": [
      "Iterations done: 100/13290\n",
      "Iterations done: 200/13290\n",
      "Iterations done: 300/13290\n",
      "Iterations done: 400/13290\n",
      "Iterations done: 500/13290\n",
      "Iterations done: 600/13290\n",
      "Iterations done: 700/13290\n",
      "Iterations done: 800/13290\n",
      "Iterations done: 900/13290\n",
      "Iterations done: 1000/13290\n",
      "Iterations done: 1100/13290\n",
      "Iterations done: 1200/13290\n",
      "Iterations done: 1300/13290\n",
      "Iterations done: 1400/13290\n",
      "Iterations done: 1500/13290\n",
      "Iterations done: 1600/13290\n",
      "Iterations done: 1700/13290\n",
      "Iterations done: 1800/13290\n",
      "Iterations done: 1900/13290\n",
      "Iterations done: 2000/13290\n",
      "Iterations done: 2100/13290\n",
      "Iterations done: 2200/13290\n",
      "Iterations done: 2300/13290\n",
      "Iterations done: 2400/13290\n",
      "Iterations done: 2500/13290\n",
      "Iterations done: 2600/13290\n",
      "Iterations done: 2700/13290\n",
      "Iterations done: 2800/13290\n",
      "Iterations done: 2900/13290\n",
      "Iterations done: 3000/13290\n",
      "Iterations done: 3100/13290\n",
      "Iterations done: 3200/13290\n",
      "Iterations done: 3300/13290\n",
      "Iterations done: 3400/13290\n",
      "Iterations done: 3500/13290\n",
      "Iterations done: 3600/13290\n",
      "Iterations done: 3700/13290\n",
      "Iterations done: 3800/13290\n",
      "Iterations done: 3900/13290\n",
      "Iterations done: 4000/13290\n",
      "Iterations done: 4100/13290\n",
      "Iterations done: 4200/13290\n",
      "Iterations done: 4300/13290\n",
      "Iterations done: 4400/13290\n",
      "Iterations done: 4500/13290\n",
      "Iterations done: 4600/13290\n",
      "Iterations done: 4700/13290\n",
      "Iterations done: 4800/13290\n",
      "Iterations done: 4900/13290\n",
      "Iterations done: 5000/13290\n",
      "Iterations done: 5100/13290\n",
      "Iterations done: 5200/13290\n",
      "Iterations done: 5300/13290\n",
      "Iterations done: 5400/13290\n",
      "Iterations done: 5500/13290\n",
      "Iterations done: 5600/13290\n",
      "Iterations done: 5700/13290\n",
      "Iterations done: 5800/13290\n",
      "Iterations done: 5900/13290\n",
      "Iterations done: 6000/13290\n",
      "Iterations done: 6100/13290\n",
      "Iterations done: 6200/13290\n",
      "Iterations done: 6300/13290\n",
      "Iterations done: 6400/13290\n",
      "Iterations done: 6500/13290\n",
      "Iterations done: 6600/13290\n",
      "Iterations done: 6700/13290\n",
      "Iterations done: 6800/13290\n",
      "Iterations done: 6900/13290\n",
      "Iterations done: 7000/13290\n",
      "Iterations done: 7100/13290\n",
      "Iterations done: 7200/13290\n",
      "Iterations done: 7300/13290\n",
      "Iterations done: 7400/13290\n",
      "Iterations done: 7500/13290\n",
      "Iterations done: 7600/13290\n",
      "Iterations done: 7700/13290\n",
      "Iterations done: 7800/13290\n",
      "Iterations done: 7900/13290\n",
      "Iterations done: 8000/13290\n",
      "Iterations done: 8100/13290\n",
      "Iterations done: 8200/13290\n",
      "Iterations done: 8300/13290\n",
      "Iterations done: 8400/13290\n",
      "Iterations done: 8500/13290\n",
      "Iterations done: 8600/13290\n",
      "Iterations done: 8700/13290\n",
      "Iterations done: 8800/13290\n",
      "Iterations done: 8900/13290\n",
      "Iterations done: 9000/13290\n",
      "Iterations done: 9100/13290\n",
      "Iterations done: 9200/13290\n",
      "Iterations done: 9300/13290\n",
      "Iterations done: 9400/13290\n",
      "Iterations done: 9500/13290\n",
      "Iterations done: 9600/13290\n",
      "Iterations done: 9700/13290\n",
      "Iterations done: 9800/13290\n",
      "Iterations done: 9900/13290\n",
      "Iterations done: 10000/13290\n",
      "Iterations done: 10100/13290\n",
      "Iterations done: 10200/13290\n",
      "Iterations done: 10300/13290\n",
      "Iterations done: 10400/13290\n",
      "Iterations done: 10500/13290\n",
      "Iterations done: 10600/13290\n",
      "Iterations done: 10700/13290\n",
      "Iterations done: 10800/13290\n",
      "Iterations done: 10900/13290\n",
      "Iterations done: 11000/13290\n",
      "Iterations done: 11100/13290\n",
      "Iterations done: 11200/13290\n",
      "Iterations done: 11300/13290\n",
      "Iterations done: 11400/13290\n",
      "Iterations done: 11500/13290\n",
      "Iterations done: 11600/13290\n",
      "Iterations done: 11700/13290\n",
      "Iterations done: 11800/13290\n",
      "Iterations done: 11900/13290\n",
      "Iterations done: 12000/13290\n",
      "Iterations done: 12100/13290\n",
      "Iterations done: 12200/13290\n",
      "Iterations done: 12300/13290\n",
      "Iterations done: 12400/13290\n",
      "Iterations done: 12500/13290\n",
      "Iterations done: 12600/13290\n",
      "Iterations done: 12700/13290\n",
      "Iterations done: 12800/13290\n",
      "Iterations done: 12900/13290\n",
      "Iterations done: 13000/13290\n",
      "Iterations done: 13100/13290\n",
      "Iterations done: 13200/13290\n",
      "Took 170.1 seconds\n"
     ]
    }
   ],
   "source": [
    "from time import time\n",
    "\n",
    "rated_films_ids = set(ratings[ratings.numVotes > 5000].index.values)\n",
    "# rated_titles = titles[titles.index.isin(rated_films_ids)]\n",
    "rated_titles = titles[titles.index.isin(rated_films_ids)].copy()\n",
    "\n",
    "\n",
    "i = 0\n",
    "def detect_title_lang(title):\n",
    "    global i\n",
    "    i += 1\n",
    "    if i % 100 == 0: print('Iterations done: {}/{}'.format(i, rated_titles.shape[0]))\n",
    "    try:\n",
    "        return detect(title)\n",
    "    except KeyboardInterrupt:\n",
    "        raise\n",
    "    except:\n",
    "        return 'unknown'\n",
    "\n",
    "\n",
    "start = time()\n",
    "rated_titles['lang'] = rated_titles.primaryTitle.apply(detect_title_lang)\n",
    "print('Took {:.1f} seconds'.format(time() - start))"
   ]
  },
  {
   "cell_type": "code",
   "execution_count": 45,
   "metadata": {},
   "outputs": [],
   "source": [
    "en_titles = rated_titles[rated_titles.lang == 'en'].primaryTitle.values"
   ]
  },
  {
   "cell_type": "code",
   "execution_count": 96,
   "metadata": {},
   "outputs": [
    {
     "name": "stdout",
     "output_type": "stream",
     "text": [
      "[nltk_data] Downloading package punkt to\n",
      "[nltk_data]     /Users/universome/nltk_data...\n",
      "[nltk_data]   Package punkt is already up-to-date!\n",
      "[nltk_data] Downloading package stopwords to\n",
      "[nltk_data]     /Users/universome/nltk_data...\n",
      "[nltk_data]   Package stopwords is already up-to-date!\n"
     ]
    }
   ],
   "source": [
    "import nltk\n",
    "from nltk.stem.lancaster import LancasterStemmer\n",
    "from nltk.corpus import stopwords\n",
    "\n",
    "nltk.download('punkt')\n",
    "nltk.download('stopwords')\n",
    "stemmer = LancasterStemmer()\n",
    "en_stopwords = stopwords.words('english')\n",
    "en_stopwords = [t for w in en_stopwords for t in nltk.word_tokenize(w)]\n",
    "en_stopwords = [stemmer.stem(w) for w in en_stopwords]\n",
    "en_stopwords = set(en_stopwords)"
   ]
  },
  {
   "cell_type": "code",
   "execution_count": 97,
   "metadata": {},
   "outputs": [],
   "source": [
    "tokens = [[stemmer.stem(t) for t in nltk.word_tokenize(s)] for s in en_titles]\n",
    "tokens = [[t for t in s if not t in en_stopwords] for s in tokens]"
   ]
  },
  {
   "cell_type": "code",
   "execution_count": 118,
   "metadata": {},
   "outputs": [],
   "source": [
    "data = pd.DataFrame({'inputs': tokens, 'targets': en_titles})"
   ]
  },
  {
   "cell_type": "code",
   "execution_count": 119,
   "metadata": {},
   "outputs": [],
   "source": [
    "# Dropping examples without tokens\n",
    "data['num_tokens'] = data.inputs.apply(lambda x: len(x))\n",
    "data = data[data.num_tokens != 0]"
   ]
  },
  {
   "cell_type": "code",
   "execution_count": 151,
   "metadata": {},
   "outputs": [],
   "source": [
    "tokenize_sentence = lambda s: ' '.join(nltk.word_tokenize(s))\n",
    "\n",
    "inputs = [' '.join(s) for s in data.inputs.values.tolist()]\n",
    "targets = [tokenize_sentence(s) for s in data.targets.values.tolist()]\n",
    "targets = [s.lower() for s in targets]\n",
    "pairs = [(inputs[i], targets[i]) for i in range(len(inputs))]"
   ]
  },
  {
   "cell_type": "markdown",
   "metadata": {},
   "source": [
    "# Training the model"
   ]
  },
  {
   "cell_type": "code",
   "execution_count": 138,
   "metadata": {},
   "outputs": [],
   "source": [
    "class Lang:\n",
    "    def __init__(self, name):\n",
    "        self.name = name\n",
    "        self.word2index = {}\n",
    "        self.word2count = {}\n",
    "        self.index2word = {0: 'SOS', 1: 'EOS'}\n",
    "        self.n_words = 2 # Count SOS and EOS\n",
    "        \n",
    "        self.add_word('UNKNOWN') # Adding unknown token\n",
    "\n",
    "    def add_sentence(self, sentence):\n",
    "        for word in sentence.split(' '):\n",
    "            self.add_word(word)\n",
    "\n",
    "    def add_word(self, word):\n",
    "        if word not in self.word2index:\n",
    "            self.word2index[word] = self.n_words\n",
    "            self.word2count[word] = 1\n",
    "            self.index2word[self.n_words] = word\n",
    "            self.n_words += 1\n",
    "        else:\n",
    "            self.word2count[word] += 1"
   ]
  },
  {
   "cell_type": "code",
   "execution_count": 153,
   "metadata": {},
   "outputs": [],
   "source": [
    "source_lang = Lang('source')\n",
    "target_lang = Lang('target')\n",
    "\n",
    "for s in inputs: source_lang.add_sentence(s)\n",
    "for s in targets: target_lang.add_sentence(s)"
   ]
  },
  {
   "cell_type": "code",
   "execution_count": 290,
   "metadata": {},
   "outputs": [],
   "source": [
    "import torch\n",
    "import torch.nn as nn\n",
    "import torch.nn.functional as F\n",
    "from torch.autograd import Variable\n",
    "\n",
    "\n",
    "MAX_LENGTH = 20\n",
    "SOS_token = 0\n",
    "EOS_token = 1\n",
    "use_cuda = torch.cuda.is_available()\n",
    "\n",
    "\n",
    "class Encoder(nn.Module):\n",
    "    def __init__(self, hidden_size, input_size):\n",
    "        super(Encoder, self).__init__()\n",
    "        self.hidden_size = hidden_size\n",
    "        self.input_size = input_size\n",
    "\n",
    "        self.embedding = nn.Embedding(input_size, hidden_size)\n",
    "        self.gru = nn.GRU(hidden_size, hidden_size)\n",
    "\n",
    "    def forward(self, input, hidden):\n",
    "        embedded = self.embedding(input).view(1, 1, -1)\n",
    "        output = embedded\n",
    "        output, hidden = self.gru(output, hidden)\n",
    "        \n",
    "        return output, hidden\n",
    "\n",
    "    def init_hidden(self):\n",
    "        return Variable(torch.zeros(1, 1, self.hidden_size))\n",
    "\n",
    "\n",
    "class Decoder(nn.Module):\n",
    "    def __init__(self, hidden_size, output_size, dropout_p=0.1, max_length=MAX_LENGTH):\n",
    "        super(Decoder, self).__init__()\n",
    "        self.hidden_size = hidden_size\n",
    "        self.output_size = output_size\n",
    "        self.dropout_p = dropout_p\n",
    "        self.max_length = max_length\n",
    "\n",
    "        self.embedding = nn.Embedding(self.output_size, self.hidden_size)\n",
    "        self.attn = nn.Linear(self.hidden_size * 2, self.max_length)\n",
    "        self.attn_combine = nn.Linear(self.hidden_size * 2, self.hidden_size)\n",
    "        self.dropout = nn.Dropout(self.dropout_p)\n",
    "        self.gru = nn.GRU(self.hidden_size, self.hidden_size)\n",
    "        self.out = nn.Linear(self.hidden_size, self.output_size)\n",
    "\n",
    "    def forward(self, input, hidden, encoder_outputs):\n",
    "        embedded = self.embedding(input).view(1, 1, -1)\n",
    "        embedded = self.dropout(embedded)\n",
    "\n",
    "        attn_weights = F.softmax(self.attn(torch.cat((embedded[0], hidden[0]), 1)), dim=1)\n",
    "        attn_applied = torch.bmm(attn_weights.unsqueeze(0), encoder_outputs.unsqueeze(0))\n",
    "\n",
    "        output = torch.cat((embedded[0], attn_applied[0]), 1)\n",
    "        output = self.attn_combine(output).unsqueeze(0)\n",
    "\n",
    "        output = F.relu(output)\n",
    "        output, hidden = self.gru(output, hidden)\n",
    "\n",
    "        output = F.log_softmax(self.out(output[0]), dim=1)\n",
    "        \n",
    "        return output, hidden, attn_weights\n",
    "\n",
    "    def init_hidden(self):\n",
    "        return Variable(torch.zeros(1, 1, self.hidden_size))"
   ]
  },
  {
   "cell_type": "code",
   "execution_count": 329,
   "metadata": {},
   "outputs": [],
   "source": [
    "def word_to_index(lang, word, unknown_noise_prob=0.1):\n",
    "    if word in lang.word2index and random.random() > unknown_noise_prob:\n",
    "        return lang.word2index[word]\n",
    "    else:\n",
    "        return lang.word2index['UNKNOWN']\n",
    "\n",
    "    \n",
    "def sentence_to_index(lang, sentence):\n",
    "    return [word_to_index(lang, word) for word in sentence.split(' ')]\n",
    "\n",
    "\n",
    "def sentence_to_var(lang, sentence):\n",
    "    indexes = sentence_to_index(lang, sentence)\n",
    "    indexes.append(EOS_token)\n",
    "    result = Variable(torch.LongTensor(indexes).view(-1, 1))\n",
    "    \n",
    "    return result.cuda() if use_cuda else result\n",
    "\n",
    "\n",
    "def pair_to_var(pair):\n",
    "    input_variable = sentence_to_var(source_lang, pair[0])\n",
    "    target_variable = sentence_to_var(target_lang, pair[1])\n",
    "    \n",
    "    return (input_variable, target_variable)"
   ]
  },
  {
   "cell_type": "code",
   "execution_count": 292,
   "metadata": {},
   "outputs": [],
   "source": [
    "import random\n",
    "teacher_forcing_ratio = 0.5\n",
    "\n",
    "\n",
    "def train(input_variable, target_variable, encoder, decoder, optimizer, criterion, max_length=MAX_LENGTH):\n",
    "    encoder_hidden = encoder.init_hidden()\n",
    "\n",
    "    optimizer.zero_grad()\n",
    "\n",
    "    input_length = input_variable.size()[0]\n",
    "    target_length = target_variable.size()[0]\n",
    "\n",
    "    encoder_outputs = Variable(torch.zeros(max_length, encoder.hidden_size))\n",
    "    encoder_outputs = encoder_outputs.cuda() if use_cuda else encoder_outputs\n",
    "\n",
    "    loss = 0\n",
    "\n",
    "    for ei in range(input_length):\n",
    "        encoder_output, encoder_hidden = encoder(input_variable[ei], encoder_hidden)\n",
    "        encoder_outputs[ei] = encoder_output[0][0]\n",
    "\n",
    "    decoder_input = Variable(torch.LongTensor([[SOS_token]]))\n",
    "    decoder_input = decoder_input.cuda() if use_cuda else decoder_input\n",
    "\n",
    "    decoder_hidden = encoder_hidden\n",
    "    use_teacher_forcing = random.random() < teacher_forcing_ratio\n",
    "\n",
    "    if use_teacher_forcing:\n",
    "        # Teacher forcing: Feed the target as the next input\n",
    "        for di in range(target_length):\n",
    "            decoder_output, decoder_hidden, decoder_attention = decoder(decoder_input, decoder_hidden, encoder_outputs)\n",
    "            loss += criterion(decoder_output, target_variable[di])\n",
    "            decoder_input = target_variable[di]  # Teacher forcing\n",
    "\n",
    "    else:\n",
    "        # Without teacher forcing: use its own predictions as the next input\n",
    "        for di in range(target_length):\n",
    "            decoder_output, decoder_hidden, decoder_attention = decoder(decoder_input, decoder_hidden, encoder_outputs)\n",
    "            topv, topi = decoder_output.data.topk(1)\n",
    "            ni = topi[0][0]\n",
    "\n",
    "            decoder_input = Variable(torch.LongTensor([[ni]]))\n",
    "            decoder_input = decoder_input.cuda() if use_cuda else decoder_input\n",
    "\n",
    "\n",
    "            loss += criterion(decoder_output, target_variable[di])\n",
    "            \n",
    "            if ni == EOS_token:\n",
    "                break\n",
    "\n",
    "    loss.backward()\n",
    "    optimizer.step()\n",
    "\n",
    "    return loss.data[0] / target_length"
   ]
  },
  {
   "cell_type": "code",
   "execution_count": 339,
   "metadata": {},
   "outputs": [
    {
     "data": {
      "application/vnd.jupyter.widget-view+json": {
       "model_id": "3713bd7b692e4f47914546a0c15f1cf8",
       "version_major": 2,
       "version_minor": 0
      },
      "text/html": [
       "<p>Failed to display Jupyter Widget of type <code>HBox</code>.</p>\n",
       "<p>\n",
       "  If you're reading this message in the Jupyter Notebook or JupyterLab Notebook, it may mean\n",
       "  that the widgets JavaScript is still loading. If this message persists, it\n",
       "  likely means that the widgets JavaScript library is either not installed or\n",
       "  not enabled. See the <a href=\"https://ipywidgets.readthedocs.io/en/stable/user_install.html\">Jupyter\n",
       "  Widgets Documentation</a> for setup instructions.\n",
       "</p>\n",
       "<p>\n",
       "  If you're reading this message in another frontend (for example, a static\n",
       "  rendering on GitHub or <a href=\"https://nbviewer.jupyter.org/\">NBViewer</a>),\n",
       "  it may mean that your frontend doesn't currently support widgets.\n",
       "</p>\n"
      ],
      "text/plain": [
       "HBox(children=(IntProgress(value=0, max=10), HTML(value='')))"
      ]
     },
     "metadata": {},
     "output_type": "display_data"
    },
    {
     "name": "stdout",
     "output_type": "stream",
     "text": [
      "\n"
     ]
    },
    {
     "ename": "RuntimeError",
     "evalue": "inconsistent tensor sizes at /Users/soumith/code/builder/wheel/pytorch-src/torch/lib/TH/generic/THTensorMath.c:2864",
     "output_type": "error",
     "traceback": [
      "\u001b[0;31m---------------------------------------------------------------------------\u001b[0m",
      "\u001b[0;31mRuntimeError\u001b[0m                              Traceback (most recent call last)",
      "\u001b[0;32m<ipython-input-339-ea766f2f2e8b>\u001b[0m in \u001b[0;36m<module>\u001b[0;34m()\u001b[0m\n\u001b[1;32m     29\u001b[0m     \u001b[0;31m#targets_var = Variable(torch.Tensor(np.array(target_vars)))\u001b[0m\u001b[0;34m\u001b[0m\u001b[0;34m\u001b[0m\u001b[0m\n\u001b[1;32m     30\u001b[0m \u001b[0;34m\u001b[0m\u001b[0m\n\u001b[0;32m---> 31\u001b[0;31m     \u001b[0minput_vars\u001b[0m \u001b[0;34m=\u001b[0m \u001b[0mVariable\u001b[0m\u001b[0;34m(\u001b[0m\u001b[0mtorch\u001b[0m\u001b[0;34m.\u001b[0m\u001b[0mstack\u001b[0m\u001b[0;34m(\u001b[0m\u001b[0minput_vars\u001b[0m\u001b[0;34m)\u001b[0m\u001b[0;34m)\u001b[0m\u001b[0;34m\u001b[0m\u001b[0m\n\u001b[0m\u001b[1;32m     32\u001b[0m     \u001b[0mtarget_vars\u001b[0m \u001b[0;34m=\u001b[0m \u001b[0mVariable\u001b[0m\u001b[0;34m(\u001b[0m\u001b[0mtorch\u001b[0m\u001b[0;34m.\u001b[0m\u001b[0mstack\u001b[0m\u001b[0;34m(\u001b[0m\u001b[0mtarget_vars\u001b[0m\u001b[0;34m)\u001b[0m\u001b[0;34m)\u001b[0m\u001b[0;34m\u001b[0m\u001b[0m\n\u001b[1;32m     33\u001b[0m \u001b[0;34m\u001b[0m\u001b[0m\n",
      "\u001b[0;32m~/pyvenvs/zoo/lib/python3.6/site-packages/torch/functional.py\u001b[0m in \u001b[0;36mstack\u001b[0;34m(sequence, dim, out)\u001b[0m\n\u001b[1;32m     62\u001b[0m     \u001b[0minputs\u001b[0m \u001b[0;34m=\u001b[0m \u001b[0;34m[\u001b[0m\u001b[0mt\u001b[0m\u001b[0;34m.\u001b[0m\u001b[0munsqueeze\u001b[0m\u001b[0;34m(\u001b[0m\u001b[0mdim\u001b[0m\u001b[0;34m)\u001b[0m \u001b[0;32mfor\u001b[0m \u001b[0mt\u001b[0m \u001b[0;32min\u001b[0m \u001b[0msequence\u001b[0m\u001b[0;34m]\u001b[0m\u001b[0;34m\u001b[0m\u001b[0m\n\u001b[1;32m     63\u001b[0m     \u001b[0;32mif\u001b[0m \u001b[0mout\u001b[0m \u001b[0;32mis\u001b[0m \u001b[0;32mNone\u001b[0m\u001b[0;34m:\u001b[0m\u001b[0;34m\u001b[0m\u001b[0m\n\u001b[0;32m---> 64\u001b[0;31m         \u001b[0;32mreturn\u001b[0m \u001b[0mtorch\u001b[0m\u001b[0;34m.\u001b[0m\u001b[0mcat\u001b[0m\u001b[0;34m(\u001b[0m\u001b[0minputs\u001b[0m\u001b[0;34m,\u001b[0m \u001b[0mdim\u001b[0m\u001b[0;34m)\u001b[0m\u001b[0;34m\u001b[0m\u001b[0m\n\u001b[0m\u001b[1;32m     65\u001b[0m     \u001b[0;32melse\u001b[0m\u001b[0;34m:\u001b[0m\u001b[0;34m\u001b[0m\u001b[0m\n\u001b[1;32m     66\u001b[0m         \u001b[0;32mreturn\u001b[0m \u001b[0mtorch\u001b[0m\u001b[0;34m.\u001b[0m\u001b[0mcat\u001b[0m\u001b[0;34m(\u001b[0m\u001b[0minputs\u001b[0m\u001b[0;34m,\u001b[0m \u001b[0mdim\u001b[0m\u001b[0;34m,\u001b[0m \u001b[0mout\u001b[0m\u001b[0;34m=\u001b[0m\u001b[0mout\u001b[0m\u001b[0;34m)\u001b[0m\u001b[0;34m\u001b[0m\u001b[0m\n",
      "\u001b[0;31mRuntimeError\u001b[0m: inconsistent tensor sizes at /Users/soumith/code/builder/wheel/pytorch-src/torch/lib/TH/generic/THTensorMath.c:2864"
     ]
    }
   ],
   "source": [
    "from tqdm import tqdm_notebook as tqdm\n",
    "\n",
    "learning_rate = 1e-3\n",
    "hidden_size = 64\n",
    "encoder = Encoder(hidden_size, source_lang.n_words)\n",
    "decoder = Decoder(hidden_size, target_lang.n_words)\n",
    "\n",
    "optimizer = torch.optim.Adam([\n",
    "    {'params': encoder.parameters()},\n",
    "    {'params': decoder.parameters()}\n",
    "], lr=learning_rate)\n",
    "\n",
    "criterion = nn.NLLLoss()\n",
    "\n",
    "losses = []\n",
    "\n",
    "num_epochs = 10\n",
    "for epoch in tqdm(range(num_epochs)):\n",
    "    loss = 0\n",
    "    \n",
    "    for pair in pairs[:10]:\n",
    "        input_var, target_var = pair_to_var(pair)\n",
    "        loss += train(input_var, target_var, encoder, decoder, optimizer, criterion)\n",
    "    \n",
    "    losses.append(loss)"
   ]
  },
  {
   "cell_type": "code",
   "execution_count": 317,
   "metadata": {},
   "outputs": [
    {
     "data": {
      "text/plain": [
       "<matplotlib.axes._subplots.AxesSubplot at 0x11f43c7f0>"
      ]
     },
     "execution_count": 317,
     "metadata": {},
     "output_type": "execute_result"
    },
    {
     "data": {
      "image/png": "[encoded data removed]",
      "text/plain": [
       "<matplotlib.figure.Figure at 0x11f417828>"
      ]
     },
     "metadata": {},
     "output_type": "display_data"
    }
   ],
   "source": [
    "pd.DataFrame(losses).plot(figsize=(15,10))"
   ]
  },
  {
   "cell_type": "code",
   "execution_count": 330,
   "metadata": {},
   "outputs": [],
   "source": [
    "def evaluate(encoder, decoder, sentence, max_length=MAX_LENGTH):\n",
    "    input_variable = sentence_to_var(source_lang, sentence)\n",
    "    input_length = input_variable.size()[0]\n",
    "    encoder_hidden = encoder.init_hidden()\n",
    "\n",
    "    encoder_outputs = Variable(torch.zeros(max_length, encoder.hidden_size))\n",
    "    encoder_outputs = encoder_outputs.cuda() if use_cuda else encoder_outputs\n",
    "\n",
    "    for ei in range(input_length):\n",
    "        encoder_output, encoder_hidden = encoder(input_variable[ei], encoder_hidden)\n",
    "        encoder_outputs[ei] = encoder_outputs[ei] + encoder_output[0][0]\n",
    "\n",
    "    decoder_input = Variable(torch.LongTensor([[SOS_token]])) # SOS\n",
    "    decoder_input = decoder_input.cuda() if use_cuda else decoder_input\n",
    "\n",
    "    decoder_hidden = encoder_hidden\n",
    "\n",
    "    decoded_words = []\n",
    "    decoder_attentions = torch.zeros(max_length, max_length)\n",
    "\n",
    "    for di in range(max_length):\n",
    "        decoder_output, decoder_hidden, decoder_attention = decoder(decoder_input, decoder_hidden, encoder_outputs)\n",
    "        decoder_attentions[di] = decoder_attention.data\n",
    "        topv, topi = decoder_output.data.topk(1)\n",
    "        ni = topi[0][0]\n",
    "        if ni == EOS_token:\n",
    "            decoded_words.append('<EOS>')\n",
    "            break\n",
    "        else:\n",
    "            decoded_words.append(target_lang.index2word[ni])\n",
    "\n",
    "        decoder_input = Variable(torch.LongTensor([[ni]]))\n",
    "        decoder_input = decoder_input.cuda() if use_cuda else decoder_input\n",
    "\n",
    "    return decoded_words, decoder_attentions[:di + 1]"
   ]
  },
  {
   "cell_type": "code",
   "execution_count": 331,
   "metadata": {},
   "outputs": [
    {
     "data": {
      "text/plain": [
       "(['the', 'birth', 'of', 'a', 'nation', '<EOS>'], \n",
       " \n",
       " Columns 0 to 9 \n",
       "  0.0011  0.4218  0.5528  0.0100  0.0013  0.0005  0.0046  0.0007  0.0008  0.0008\n",
       "  0.0001  0.9975  0.0016  0.0002  0.0001  0.0000  0.0002  0.0000  0.0000  0.0000\n",
       "  0.0008  0.8385  0.0893  0.0476  0.0102  0.0024  0.0031  0.0009  0.0004  0.0010\n",
       "  0.0004  0.4694  0.5158  0.0095  0.0009  0.0002  0.0009  0.0002  0.0002  0.0005\n",
       "  0.0003  0.9933  0.0051  0.0002  0.0001  0.0001  0.0003  0.0000  0.0000  0.0001\n",
       "  0.0015  0.2381  0.7200  0.0212  0.0020  0.0005  0.0038  0.0007  0.0013  0.0013\n",
       " \n",
       " Columns 10 to 19 \n",
       "  0.0003  0.0003  0.0007  0.0005  0.0004  0.0003  0.0008  0.0006  0.0014  0.0004\n",
       "  0.0000  0.0000  0.0000  0.0000  0.0000  0.0000  0.0000  0.0000  0.0000  0.0000\n",
       "  0.0003  0.0005  0.0009  0.0005  0.0003  0.0002  0.0010  0.0006  0.0013  0.0003\n",
       "  0.0002  0.0002  0.0004  0.0002  0.0001  0.0001  0.0003  0.0002  0.0003  0.0001\n",
       "  0.0000  0.0000  0.0001  0.0000  0.0000  0.0000  0.0001  0.0000  0.0001  0.0000\n",
       "  0.0011  0.0008  0.0010  0.0008  0.0008  0.0012  0.0012  0.0007  0.0011  0.0008\n",
       " [torch.FloatTensor of size 6x20])"
      ]
     },
     "execution_count": 331,
     "metadata": {},
     "output_type": "execute_result"
    }
   ],
   "source": [
    "evaluate(encoder, decoder, 'chair human')"
   ]
  },
  {
   "cell_type": "code",
   "execution_count": 321,
   "metadata": {},
   "outputs": [
    {
     "data": {
      "text/plain": [
       "(['the', 'arrival', 'of', 'a', 'train', '<EOS>'], \n",
       " \n",
       " Columns 0 to 9 \n",
       "  0.0017  0.7110  0.2586  0.0094  0.0014  0.0004  0.0044  0.0006  0.0009  0.0014\n",
       "  0.0003  0.9920  0.0034  0.0012  0.0004  0.0002  0.0004  0.0001  0.0001  0.0002\n",
       "  0.0045  0.3358  0.4417  0.0775  0.0547  0.0054  0.0275  0.0043  0.0039  0.0045\n",
       "  0.0007  0.4017  0.5775  0.0126  0.0013  0.0003  0.0010  0.0004  0.0003  0.0011\n",
       "  0.0002  0.9940  0.0047  0.0003  0.0001  0.0000  0.0001  0.0000  0.0000  0.0001\n",
       "  0.0005  0.9853  0.0087  0.0024  0.0002  0.0001  0.0010  0.0001  0.0001  0.0002\n",
       " \n",
       " Columns 10 to 19 \n",
       "  0.0003  0.0005  0.0010  0.0015  0.0010  0.0003  0.0008  0.0011  0.0029  0.0005\n",
       "  0.0001  0.0001  0.0002  0.0002  0.0001  0.0001  0.0001  0.0002  0.0004  0.0001\n",
       "  0.0028  0.0047  0.0054  0.0026  0.0071  0.0023  0.0078  0.0021  0.0041  0.0013\n",
       "  0.0003  0.0002  0.0004  0.0002  0.0003  0.0002  0.0004  0.0003  0.0007  0.0002\n",
       "  0.0000  0.0000  0.0001  0.0000  0.0000  0.0000  0.0000  0.0001  0.0001  0.0000\n",
       "  0.0001  0.0001  0.0004  0.0001  0.0001  0.0001  0.0002  0.0001  0.0001  0.0001\n",
       " [torch.FloatTensor of size 6x20])"
      ]
     },
     "execution_count": 321,
     "metadata": {},
     "output_type": "execute_result"
    }
   ],
   "source": [
    "evaluate(encoder, decoder, pairs[0][0])"
   ]
  }
 ],
 "metadata": {
  "kernelspec": {
   "display_name": "Python 3",
   "language": "python",
   "name": "python3"
  },
  "language_info": {
   "codemirror_mode": {
    "name": "ipython",
    "version": 3
   },
   "file_extension": ".py",
   "mimetype": "text/x-python",
   "name": "python",
   "nbconvert_exporter": "python",
   "pygments_lexer": "ipython3",
   "version": "3.6.3"
  }
 },
 "nbformat": 4,
 "nbformat_minor": 2
}
